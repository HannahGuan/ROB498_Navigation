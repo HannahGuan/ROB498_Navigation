{
 "cells": [
  {
   "cell_type": "code",
   "execution_count": 1,
   "metadata": {},
   "outputs": [],
   "source": [
    "from predictor import Predictor \n",
    "import json"
   ]
  },
  {
   "cell_type": "code",
   "execution_count": 2,
   "metadata": {},
   "outputs": [
    {
     "name": "stdout",
     "output_type": "stream",
     "text": [
      "{'prerec_0000': {'name': 'prerec_0000', 'current_config': [11.051899909973145, 5.9962158203125, 0.0, 0.0]}, 'prerec_0001': {'name': 'prerec_0001', 'current_config': [13.589799880981445, 7.168900012969971, 0.0, 0.0]}, 'prerec_0002': {'name': 'prerec_0002', 'current_config': [7.753699779510498, 3.9261999130249023, 0.0, 0.0]}, 'prerec_0003': {'name': 'prerec_0003', 'current_config': [3.648699998855591, 5.9633049964904785, 0.0, 0.0]}, 'prerec_0004': {'name': 'prerec_0004', 'current_config': [16.12380027770996, 6.523139953613281, 0.0, 0.0]}, 'prerec_0005': {'name': 'prerec_0005', 'current_config': [16.584800720214844, 5.732049942016602, 0.0, 0.0]}, 'prerec_0006': {'name': 'prerec_0006', 'current_config': [16.007299423217773, 3.118299961090088, 0.0, 0.0]}, 'prerec_0007': {'name': 'prerec_0007', 'current_config': [16.485599517822266, 3.7939999103546143, 0.0, 0.0]}}\n"
     ]
    }
   ],
   "source": [
    "tool = Predictor()\n",
    "\n",
    "with open('pedestrian_data.json', 'r') as file:\n",
    "    data = json.load(file)\n",
    "print(data[0])"
   ]
  },
  {
   "cell_type": "code",
   "execution_count": 3,
   "metadata": {},
   "outputs": [
    {
     "name": "stdout",
     "output_type": "stream",
     "text": [
      "this call takes the time:  0.3184988498687744\n",
      "\n",
      "            Input: \n",
      "            Surrounding Information: { pedestrian 0: [13.589799880981445, 7.168900012969971, 0.0, 0.0] }. \n",
      "            Your current state: [11.051899909973145, 5.9962158203125, 0.0, 0.0]. \n",
      "            History trajectory: []\n",
      "        \n",
      "this call takes the time:  0.31253838539123535\n",
      "\n",
      "            Input: \n",
      "            Surrounding Information: { pedestrian 0: [11.051899909973145, 5.9962158203125, 0.0, 0.0]; pedestrian 1: [16.12380027770996, 6.523139953613281, 0.0, 0.0]; pedestrian 2: [16.584800720214844, 5.732049942016602, 0.0, 0.0] }. \n",
      "            Your current state: [13.589799880981445, 7.168900012969971, 0.0, 0.0]. \n",
      "            History trajectory: []\n",
      "        \n",
      "this call takes the time:  0.17098307609558105\n",
      "\n",
      "            Input: \n",
      "            Surrounding Information: None. \n",
      "            Your current state: [7.753699779510498, 3.9261999130249023, 0.0, 0.0]. \n",
      "            History trajectory: []\n",
      "        \n",
      "this call takes the time:  0.29587674140930176\n",
      "\n",
      "            Input: \n",
      "            Surrounding Information: None. \n",
      "            Your current state: [3.648699998855591, 5.9633049964904785, 0.0, 0.0]. \n",
      "            History trajectory: []\n",
      "        \n",
      "this call takes the time:  0.18129205703735352\n",
      "\n",
      "            Input: \n",
      "            Surrounding Information: { pedestrian 0: [13.589799880981445, 7.168900012969971, 0.0, 0.0]; pedestrian 1: [16.584800720214844, 5.732049942016602, 0.0, 0.0]; pedestrian 2: [16.007299423217773, 3.118299961090088, 0.0, 0.0]; pedestrian 3: [16.485599517822266, 3.7939999103546143, 0.0, 0.0] }. \n",
      "            Your current state: [16.12380027770996, 6.523139953613281, 0.0, 0.0]. \n",
      "            History trajectory: []\n",
      "        \n",
      "this call takes the time:  0.19986367225646973\n",
      "\n",
      "            Input: \n",
      "            Surrounding Information: { pedestrian 0: [13.589799880981445, 7.168900012969971, 0.0, 0.0]; pedestrian 1: [16.12380027770996, 6.523139953613281, 0.0, 0.0]; pedestrian 2: [16.007299423217773, 3.118299961090088, 0.0, 0.0]; pedestrian 3: [16.485599517822266, 3.7939999103546143, 0.0, 0.0] }. \n",
      "            Your current state: [16.584800720214844, 5.732049942016602, 0.0, 0.0]. \n",
      "            History trajectory: []\n",
      "        \n",
      "this call takes the time:  0.27760910987854004\n",
      "\n",
      "            Input: \n",
      "            Surrounding Information: { pedestrian 0: [16.12380027770996, 6.523139953613281, 0.0, 0.0]; pedestrian 1: [16.584800720214844, 5.732049942016602, 0.0, 0.0]; pedestrian 2: [16.485599517822266, 3.7939999103546143, 0.0, 0.0] }. \n",
      "            Your current state: [16.007299423217773, 3.118299961090088, 0.0, 0.0]. \n",
      "            History trajectory: []\n",
      "        \n",
      "this call takes the time:  0.26575255393981934\n",
      "\n",
      "            Input: \n",
      "            Surrounding Information: { pedestrian 0: [16.12380027770996, 6.523139953613281, 0.0, 0.0]; pedestrian 1: [16.584800720214844, 5.732049942016602, 0.0, 0.0]; pedestrian 2: [16.007299423217773, 3.118299961090088, 0.0, 0.0] }. \n",
      "            Your current state: [16.485599517822266, 3.7939999103546143, 0.0, 0.0]. \n",
      "            History trajectory: []\n",
      "        \n"
     ]
    },
    {
     "data": {
      "text/plain": [
       "{'prerec_0000': 'straight',\n",
       " 'prerec_0001': 'straight',\n",
       " 'prerec_0002': 'straight',\n",
       " 'prerec_0003': 'straight',\n",
       " 'prerec_0004': 'straight',\n",
       " 'prerec_0005': 'straight',\n",
       " 'prerec_0006': 'straight',\n",
       " 'prerec_0007': 'straight'}"
      ]
     },
     "execution_count": 3,
     "metadata": {},
     "output_type": "execute_result"
    }
   ],
   "source": [
    "tool.make_prediction(data[0], seeTime=True, seePrompt=True)"
   ]
  },
  {
   "cell_type": "code",
   "execution_count": 4,
   "metadata": {},
   "outputs": [
    {
     "name": "stdout",
     "output_type": "stream",
     "text": [
      "\n",
      "            Input: \n",
      "            Surrounding Information: { pedestrian 0: [13.730048146741144, 7.166724155689108, 1.402482657596984, -0.021758572808625587] }. \n",
      "            Your current state: [11.279551604698444, 6.030428721986968, 2.2765169472529934, 0.34212901674467666]. \n",
      "            History trajectory: [(11.051899909973145, 5.9962158203125)]\n",
      "        \n",
      "\n",
      "            Input: \n",
      "            Surrounding Information: { pedestrian 0: [11.279551604698444, 6.030428721986968, 2.2765169472529934, 0.34212901674467666]; pedestrian 1: [15.658162338980313, 6.713383411539012, -4.656379387296479, 1.9024345792573083]; pedestrian 2: [16.528538638147815, 5.732782363891602, -0.5626208206702898, 0.00732421875] }. \n",
      "            Your current state: [13.730048146741144, 7.166724155689108, 1.402482657596984, -0.021758572808625587]. \n",
      "            History trajectory: [(13.589799880981445, 7.168900012969971)]\n",
      "        \n",
      "\n",
      "            Input: \n",
      "            Surrounding Information: None. \n",
      "            Your current state: [8.087182538262729, 4.1482550851229965, 3.334827587522309, 2.220551720980941]. \n",
      "            History trajectory: [(7.753699779510498, 3.9261999130249023)]\n",
      "        \n",
      "\n",
      "            Input: \n",
      "            Surrounding Information: None. \n",
      "            Your current state: [4.138979319868417, 6.035228959445296, 4.902793210128262, 0.7192396295481718]. \n",
      "            History trajectory: [(3.648699998855591, 5.9633049964904785)]\n",
      "        \n",
      "\n",
      "            Input: \n",
      "            Surrounding Information: { pedestrian 0: [13.730048146741144, 7.166724155689108, 1.402482657596984, -0.021758572808625587]; pedestrian 1: [16.528538638147815, 5.732782363891602, -0.5626208206702898, 0.00732421875]; pedestrian 2: [15.498302891336639, 3.2306854807097336, -5.089965318811345, 1.1238551961964571]; pedestrian 3: [15.958489187832537, 3.910693020656191, -5.271103299897284, 1.1669311030157692] }. \n",
      "            Your current state: [15.658162338980313, 6.713383411539012, -4.656379387296479, 1.9024345792573083]. \n",
      "            History trajectory: [(16.12380027770996, 6.523139953613281)]\n",
      "        \n",
      "\n",
      "            Input: \n",
      "            Surrounding Information: { pedestrian 0: [13.730048146741144, 7.166724155689108, 1.402482657596984, -0.021758572808625587]; pedestrian 1: [15.658162338980313, 6.713383411539012, -4.656379387296479, 1.9024345792573083]; pedestrian 2: [15.498302891336639, 3.2306854807097336, -5.089965318811345, 1.1238551961964571]; pedestrian 3: [15.958489187832537, 3.910693020656191, -5.271103299897284, 1.1669311030157692] }. \n",
      "            Your current state: [16.528538638147815, 5.732782363891602, -0.5626208206702898, 0.00732421875]. \n",
      "            History trajectory: [(16.584800720214844, 5.732049942016602)]\n",
      "        \n",
      "\n",
      "            Input: \n",
      "            Surrounding Information: { pedestrian 0: [15.658162338980313, 6.713383411539012, -4.656379387296479, 1.9024345792573083]; pedestrian 1: [16.528538638147815, 5.732782363891602, -0.5626208206702898, 0.00732421875]; pedestrian 2: [15.958489187832537, 3.910693020656191, -5.271103299897284, 1.1669311030157692] }. \n",
      "            Your current state: [15.498302891336639, 3.2306854807097336, -5.089965318811345, 1.1238551961964571]. \n",
      "            History trajectory: [(16.007299423217773, 3.118299961090088)]\n",
      "        \n",
      "\n",
      "            Input: \n",
      "            Surrounding Information: { pedestrian 0: [15.658162338980313, 6.713383411539012, -4.656379387296479, 1.9024345792573083]; pedestrian 1: [16.528538638147815, 5.732782363891602, -0.5626208206702898, 0.00732421875]; pedestrian 2: [15.498302891336639, 3.2306854807097336, -5.089965318811345, 1.1238551961964571] }. \n",
      "            Your current state: [15.958489187832537, 3.910693020656191, -5.271103299897284, 1.1669311030157692]. \n",
      "            History trajectory: [(16.485599517822266, 3.7939999103546143)]\n",
      "        \n"
     ]
    },
    {
     "data": {
      "text/plain": [
       "{'prerec_0000': 'straight',\n",
       " 'prerec_0001': 'straight',\n",
       " 'prerec_0002': 'straight',\n",
       " 'prerec_0003': 'straight',\n",
       " 'prerec_0004': 'straight',\n",
       " 'prerec_0005': 'left',\n",
       " 'prerec_0006': 'straight',\n",
       " 'prerec_0007': 'right'}"
      ]
     },
     "execution_count": 4,
     "metadata": {},
     "output_type": "execute_result"
    }
   ],
   "source": [
    "tool.make_prediction(data[1], seePrompt=True)"
   ]
  }
 ],
 "metadata": {
  "kernelspec": {
   "display_name": "Python 3",
   "language": "python",
   "name": "python3"
  },
  "language_info": {
   "codemirror_mode": {
    "name": "ipython",
    "version": 3
   },
   "file_extension": ".py",
   "mimetype": "text/x-python",
   "name": "python",
   "nbconvert_exporter": "python",
   "pygments_lexer": "ipython3",
   "version": "3.11.9"
  }
 },
 "nbformat": 4,
 "nbformat_minor": 2
}
